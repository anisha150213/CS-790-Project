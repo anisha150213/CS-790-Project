{
 "cells": [
  {
   "cell_type": "code",
   "execution_count": 3,
   "id": "a7c8ba20",
   "metadata": {
    "ExecuteTime": {
     "end_time": "2025-04-27T03:28:24.690231Z",
     "start_time": "2025-04-27T03:28:20.691097Z"
    }
   },
   "outputs": [
    {
     "name": "stdout",
     "output_type": "stream",
     "text": [
      "WARNING:tensorflow:From C:\\Users\\tasni\\miniconda3\\lib\\site-packages\\keras\\src\\losses.py:2976: The name tf.losses.sparse_softmax_cross_entropy is deprecated. Please use tf.compat.v1.losses.sparse_softmax_cross_entropy instead.\n",
      "\n"
     ]
    }
   ],
   "source": [
    "import os\n",
    "import pandas as pd\n",
    "import numpy as np\n",
    "\n",
    "from sklearn.preprocessing import StandardScaler\n",
    "from sklearn.model_selection import train_test_split, KFold\n",
    "from tensorflow.keras.models import Sequential, load_model\n",
    "from tensorflow.keras.callbacks import EarlyStopping\n",
    "from tensorflow.keras.layers import LSTM, Dense, Dropout, Bidirectional\n",
    "from tensorflow.keras.optimizers import Adam\n",
    "\n",
    "from sklearn.metrics import accuracy_score, f1_score, precision_score, recall_score, roc_curve, auc, confusion_matrix, ConfusionMatrixDisplay, precision_recall_curve\n",
    "\n",
    "\n",
    "import matplotlib.pyplot as plt\n",
    "import seaborn as sns"
   ]
  },
  {
   "cell_type": "code",
   "execution_count": 4,
   "id": "293d728d",
   "metadata": {
    "ExecuteTime": {
     "end_time": "2025-04-27T03:28:24.760512Z",
     "start_time": "2025-04-27T03:28:24.758400Z"
    }
   },
   "outputs": [],
   "source": [
    "pd.set_option('display.width', 250)"
   ]
  },
  {
   "cell_type": "code",
   "execution_count": 5,
   "id": "294c354f",
   "metadata": {
    "ExecuteTime": {
     "end_time": "2025-04-27T03:28:24.770011Z",
     "start_time": "2025-04-27T03:28:24.766518Z"
    }
   },
   "outputs": [],
   "source": [
    "# file path\n",
    "eeg_path = 'Dataset/EEG_data.csv'\n",
    "demographic_path = 'Dataset/demographic_info.csv'"
   ]
  },
  {
   "cell_type": "code",
   "execution_count": 6,
   "id": "2f511a7b",
   "metadata": {
    "ExecuteTime": {
     "end_time": "2025-04-27T03:28:24.821166Z",
     "start_time": "2025-04-27T03:28:24.777130Z"
    }
   },
   "outputs": [
    {
     "data": {
      "text/html": [
       "<div>\n",
       "<style scoped>\n",
       "    .dataframe tbody tr th:only-of-type {\n",
       "        vertical-align: middle;\n",
       "    }\n",
       "\n",
       "    .dataframe tbody tr th {\n",
       "        vertical-align: top;\n",
       "    }\n",
       "\n",
       "    .dataframe thead th {\n",
       "        text-align: right;\n",
       "    }\n",
       "</style>\n",
       "<table border=\"1\" class=\"dataframe\">\n",
       "  <thead>\n",
       "    <tr style=\"text-align: right;\">\n",
       "      <th></th>\n",
       "      <th>SubjectID</th>\n",
       "      <th>VideoID</th>\n",
       "      <th>Attention</th>\n",
       "      <th>Mediation</th>\n",
       "      <th>Raw</th>\n",
       "      <th>Delta</th>\n",
       "      <th>Theta</th>\n",
       "      <th>Alpha1</th>\n",
       "      <th>Alpha2</th>\n",
       "      <th>Beta1</th>\n",
       "      <th>Beta2</th>\n",
       "      <th>Gamma1</th>\n",
       "      <th>Gamma2</th>\n",
       "      <th>predefinedlabel</th>\n",
       "      <th>user-definedlabeln</th>\n",
       "    </tr>\n",
       "  </thead>\n",
       "  <tbody>\n",
       "    <tr>\n",
       "      <th>0</th>\n",
       "      <td>0.0</td>\n",
       "      <td>0.0</td>\n",
       "      <td>56.0</td>\n",
       "      <td>43.0</td>\n",
       "      <td>278.0</td>\n",
       "      <td>301963.0</td>\n",
       "      <td>90612.0</td>\n",
       "      <td>33735.0</td>\n",
       "      <td>23991.0</td>\n",
       "      <td>27946.0</td>\n",
       "      <td>45097.0</td>\n",
       "      <td>33228.0</td>\n",
       "      <td>8293.0</td>\n",
       "      <td>0.0</td>\n",
       "      <td>0.0</td>\n",
       "    </tr>\n",
       "    <tr>\n",
       "      <th>1</th>\n",
       "      <td>0.0</td>\n",
       "      <td>0.0</td>\n",
       "      <td>40.0</td>\n",
       "      <td>35.0</td>\n",
       "      <td>-50.0</td>\n",
       "      <td>73787.0</td>\n",
       "      <td>28083.0</td>\n",
       "      <td>1439.0</td>\n",
       "      <td>2240.0</td>\n",
       "      <td>2746.0</td>\n",
       "      <td>3687.0</td>\n",
       "      <td>5293.0</td>\n",
       "      <td>2740.0</td>\n",
       "      <td>0.0</td>\n",
       "      <td>0.0</td>\n",
       "    </tr>\n",
       "    <tr>\n",
       "      <th>2</th>\n",
       "      <td>0.0</td>\n",
       "      <td>0.0</td>\n",
       "      <td>47.0</td>\n",
       "      <td>48.0</td>\n",
       "      <td>101.0</td>\n",
       "      <td>758353.0</td>\n",
       "      <td>383745.0</td>\n",
       "      <td>201999.0</td>\n",
       "      <td>62107.0</td>\n",
       "      <td>36293.0</td>\n",
       "      <td>130536.0</td>\n",
       "      <td>57243.0</td>\n",
       "      <td>25354.0</td>\n",
       "      <td>0.0</td>\n",
       "      <td>0.0</td>\n",
       "    </tr>\n",
       "    <tr>\n",
       "      <th>3</th>\n",
       "      <td>0.0</td>\n",
       "      <td>0.0</td>\n",
       "      <td>47.0</td>\n",
       "      <td>57.0</td>\n",
       "      <td>-5.0</td>\n",
       "      <td>2012240.0</td>\n",
       "      <td>129350.0</td>\n",
       "      <td>61236.0</td>\n",
       "      <td>17084.0</td>\n",
       "      <td>11488.0</td>\n",
       "      <td>62462.0</td>\n",
       "      <td>49960.0</td>\n",
       "      <td>33932.0</td>\n",
       "      <td>0.0</td>\n",
       "      <td>0.0</td>\n",
       "    </tr>\n",
       "    <tr>\n",
       "      <th>4</th>\n",
       "      <td>0.0</td>\n",
       "      <td>0.0</td>\n",
       "      <td>44.0</td>\n",
       "      <td>53.0</td>\n",
       "      <td>-8.0</td>\n",
       "      <td>1005145.0</td>\n",
       "      <td>354328.0</td>\n",
       "      <td>37102.0</td>\n",
       "      <td>88881.0</td>\n",
       "      <td>45307.0</td>\n",
       "      <td>99603.0</td>\n",
       "      <td>44790.0</td>\n",
       "      <td>29749.0</td>\n",
       "      <td>0.0</td>\n",
       "      <td>0.0</td>\n",
       "    </tr>\n",
       "  </tbody>\n",
       "</table>\n",
       "</div>"
      ],
      "text/plain": [
       "   SubjectID  VideoID  Attention  Mediation    Raw      Delta     Theta    Alpha1   Alpha2    Beta1     Beta2   Gamma1   Gamma2  predefinedlabel  user-definedlabeln\n",
       "0        0.0      0.0       56.0       43.0  278.0   301963.0   90612.0   33735.0  23991.0  27946.0   45097.0  33228.0   8293.0              0.0                 0.0\n",
       "1        0.0      0.0       40.0       35.0  -50.0    73787.0   28083.0    1439.0   2240.0   2746.0    3687.0   5293.0   2740.0              0.0                 0.0\n",
       "2        0.0      0.0       47.0       48.0  101.0   758353.0  383745.0  201999.0  62107.0  36293.0  130536.0  57243.0  25354.0              0.0                 0.0\n",
       "3        0.0      0.0       47.0       57.0   -5.0  2012240.0  129350.0   61236.0  17084.0  11488.0   62462.0  49960.0  33932.0              0.0                 0.0\n",
       "4        0.0      0.0       44.0       53.0   -8.0  1005145.0  354328.0   37102.0  88881.0  45307.0   99603.0  44790.0  29749.0              0.0                 0.0"
      ]
     },
     "execution_count": 6,
     "metadata": {},
     "output_type": "execute_result"
    }
   ],
   "source": [
    "# load eeg data\n",
    "eeg_df = pd.read_csv(eeg_path)\n",
    "eeg_df.head()"
   ]
  },
  {
   "cell_type": "code",
   "execution_count": 7,
   "id": "bdd655ff",
   "metadata": {
    "ExecuteTime": {
     "end_time": "2025-04-27T03:28:24.838164Z",
     "start_time": "2025-04-27T03:28:24.834204Z"
    }
   },
   "outputs": [],
   "source": [
    "features = [\n",
    "            'SubjectID', 'VideoID', \n",
    "            'Attention', 'Mediation', \n",
    "            'Raw', 'Delta', 'Theta', 'Alpha1', \n",
    "            'Alpha2', 'Beta1', 'Beta2', 'Gamma1',\t\n",
    "            'Gamma2', 'predefined', 'userdefined'\n",
    "            ]"
   ]
  },
  {
   "cell_type": "code",
   "execution_count": 8,
   "id": "f2ec8d33",
   "metadata": {
    "ExecuteTime": {
     "end_time": "2025-04-27T03:28:24.874992Z",
     "start_time": "2025-04-27T03:28:24.872773Z"
    }
   },
   "outputs": [],
   "source": [
    "eeg_df.columns  = features"
   ]
  },
  {
   "cell_type": "code",
   "execution_count": 9,
   "id": "06cb1d6e",
   "metadata": {
    "ExecuteTime": {
     "end_time": "2025-04-27T03:28:24.920955Z",
     "start_time": "2025-04-27T03:28:24.915700Z"
    }
   },
   "outputs": [
    {
     "data": {
      "text/plain": [
       "SubjectID      float64\n",
       "VideoID        float64\n",
       "Attention      float64\n",
       "Mediation      float64\n",
       "Raw            float64\n",
       "Delta          float64\n",
       "Theta          float64\n",
       "Alpha1         float64\n",
       "Alpha2         float64\n",
       "Beta1          float64\n",
       "Beta2          float64\n",
       "Gamma1         float64\n",
       "Gamma2         float64\n",
       "predefined     float64\n",
       "userdefined    float64\n",
       "dtype: object"
      ]
     },
     "execution_count": 9,
     "metadata": {},
     "output_type": "execute_result"
    }
   ],
   "source": [
    "eeg_df.dtypes"
   ]
  },
  {
   "cell_type": "code",
   "execution_count": 10,
   "id": "c7f6766a",
   "metadata": {
    "ExecuteTime": {
     "end_time": "2025-04-27T03:28:25.086467Z",
     "start_time": "2025-04-27T03:28:25.060228Z"
    }
   },
   "outputs": [
    {
     "data": {
      "text/html": [
       "<div>\n",
       "<style scoped>\n",
       "    .dataframe tbody tr th:only-of-type {\n",
       "        vertical-align: middle;\n",
       "    }\n",
       "\n",
       "    .dataframe tbody tr th {\n",
       "        vertical-align: top;\n",
       "    }\n",
       "\n",
       "    .dataframe thead th {\n",
       "        text-align: right;\n",
       "    }\n",
       "</style>\n",
       "<table border=\"1\" class=\"dataframe\">\n",
       "  <thead>\n",
       "    <tr style=\"text-align: right;\">\n",
       "      <th></th>\n",
       "      <th>SubjectID</th>\n",
       "      <th>VideoID</th>\n",
       "      <th>Attention</th>\n",
       "      <th>Mediation</th>\n",
       "      <th>Raw</th>\n",
       "      <th>Delta</th>\n",
       "      <th>Theta</th>\n",
       "      <th>Alpha1</th>\n",
       "      <th>Alpha2</th>\n",
       "      <th>Beta1</th>\n",
       "      <th>Beta2</th>\n",
       "      <th>Gamma1</th>\n",
       "      <th>Gamma2</th>\n",
       "      <th>predefined</th>\n",
       "      <th>userdefined</th>\n",
       "    </tr>\n",
       "  </thead>\n",
       "  <tbody>\n",
       "    <tr>\n",
       "      <th>count</th>\n",
       "      <td>12811.000000</td>\n",
       "      <td>12811.000000</td>\n",
       "      <td>12811.000000</td>\n",
       "      <td>12811.000000</td>\n",
       "      <td>12811.000000</td>\n",
       "      <td>1.281100e+04</td>\n",
       "      <td>1.281100e+04</td>\n",
       "      <td>1.281100e+04</td>\n",
       "      <td>1.281100e+04</td>\n",
       "      <td>1.281100e+04</td>\n",
       "      <td>1.281100e+04</td>\n",
       "      <td>1.281100e+04</td>\n",
       "      <td>1.281100e+04</td>\n",
       "      <td>12811.000000</td>\n",
       "      <td>12811.000000</td>\n",
       "    </tr>\n",
       "    <tr>\n",
       "      <th>mean</th>\n",
       "      <td>4.487394</td>\n",
       "      <td>4.390602</td>\n",
       "      <td>41.313871</td>\n",
       "      <td>47.182656</td>\n",
       "      <td>65.570760</td>\n",
       "      <td>6.057853e+05</td>\n",
       "      <td>1.680526e+05</td>\n",
       "      <td>4.138435e+04</td>\n",
       "      <td>3.318339e+04</td>\n",
       "      <td>2.431837e+04</td>\n",
       "      <td>3.814433e+04</td>\n",
       "      <td>2.959255e+04</td>\n",
       "      <td>1.441597e+04</td>\n",
       "      <td>0.479978</td>\n",
       "      <td>0.512606</td>\n",
       "    </tr>\n",
       "    <tr>\n",
       "      <th>std</th>\n",
       "      <td>2.865373</td>\n",
       "      <td>2.913232</td>\n",
       "      <td>23.152953</td>\n",
       "      <td>22.655976</td>\n",
       "      <td>597.921035</td>\n",
       "      <td>6.376236e+05</td>\n",
       "      <td>2.441346e+05</td>\n",
       "      <td>7.243082e+04</td>\n",
       "      <td>5.831410e+04</td>\n",
       "      <td>3.837968e+04</td>\n",
       "      <td>7.906606e+04</td>\n",
       "      <td>7.982637e+04</td>\n",
       "      <td>3.603523e+04</td>\n",
       "      <td>0.499618</td>\n",
       "      <td>0.499861</td>\n",
       "    </tr>\n",
       "    <tr>\n",
       "      <th>min</th>\n",
       "      <td>0.000000</td>\n",
       "      <td>0.000000</td>\n",
       "      <td>0.000000</td>\n",
       "      <td>0.000000</td>\n",
       "      <td>-2048.000000</td>\n",
       "      <td>4.480000e+02</td>\n",
       "      <td>1.700000e+01</td>\n",
       "      <td>2.000000e+00</td>\n",
       "      <td>2.000000e+00</td>\n",
       "      <td>3.000000e+00</td>\n",
       "      <td>2.000000e+00</td>\n",
       "      <td>1.000000e+00</td>\n",
       "      <td>2.000000e+00</td>\n",
       "      <td>0.000000</td>\n",
       "      <td>0.000000</td>\n",
       "    </tr>\n",
       "    <tr>\n",
       "      <th>25%</th>\n",
       "      <td>2.000000</td>\n",
       "      <td>2.000000</td>\n",
       "      <td>27.000000</td>\n",
       "      <td>37.000000</td>\n",
       "      <td>-14.000000</td>\n",
       "      <td>9.806400e+04</td>\n",
       "      <td>2.691750e+04</td>\n",
       "      <td>6.838000e+03</td>\n",
       "      <td>6.852000e+03</td>\n",
       "      <td>6.140000e+03</td>\n",
       "      <td>7.358500e+03</td>\n",
       "      <td>4.058000e+03</td>\n",
       "      <td>2.167500e+03</td>\n",
       "      <td>0.000000</td>\n",
       "      <td>0.000000</td>\n",
       "    </tr>\n",
       "    <tr>\n",
       "      <th>50%</th>\n",
       "      <td>4.000000</td>\n",
       "      <td>4.000000</td>\n",
       "      <td>43.000000</td>\n",
       "      <td>51.000000</td>\n",
       "      <td>35.000000</td>\n",
       "      <td>3.954870e+05</td>\n",
       "      <td>8.133100e+04</td>\n",
       "      <td>1.750000e+04</td>\n",
       "      <td>1.495900e+04</td>\n",
       "      <td>1.281800e+04</td>\n",
       "      <td>1.581000e+04</td>\n",
       "      <td>9.763000e+03</td>\n",
       "      <td>5.116000e+03</td>\n",
       "      <td>0.000000</td>\n",
       "      <td>1.000000</td>\n",
       "    </tr>\n",
       "    <tr>\n",
       "      <th>75%</th>\n",
       "      <td>7.000000</td>\n",
       "      <td>7.000000</td>\n",
       "      <td>57.000000</td>\n",
       "      <td>63.000000</td>\n",
       "      <td>90.000000</td>\n",
       "      <td>9.166230e+05</td>\n",
       "      <td>2.052760e+05</td>\n",
       "      <td>4.477950e+04</td>\n",
       "      <td>3.455050e+04</td>\n",
       "      <td>2.740600e+04</td>\n",
       "      <td>3.549400e+04</td>\n",
       "      <td>2.488800e+04</td>\n",
       "      <td>1.266950e+04</td>\n",
       "      <td>1.000000</td>\n",
       "      <td>1.000000</td>\n",
       "    </tr>\n",
       "    <tr>\n",
       "      <th>max</th>\n",
       "      <td>9.000000</td>\n",
       "      <td>9.000000</td>\n",
       "      <td>100.000000</td>\n",
       "      <td>100.000000</td>\n",
       "      <td>2047.000000</td>\n",
       "      <td>3.964663e+06</td>\n",
       "      <td>3.007802e+06</td>\n",
       "      <td>1.369955e+06</td>\n",
       "      <td>1.016913e+06</td>\n",
       "      <td>1.067778e+06</td>\n",
       "      <td>1.645369e+06</td>\n",
       "      <td>1.972506e+06</td>\n",
       "      <td>1.348117e+06</td>\n",
       "      <td>1.000000</td>\n",
       "      <td>1.000000</td>\n",
       "    </tr>\n",
       "  </tbody>\n",
       "</table>\n",
       "</div>"
      ],
      "text/plain": [
       "          SubjectID       VideoID     Attention     Mediation           Raw         Delta         Theta        Alpha1        Alpha2         Beta1         Beta2        Gamma1        Gamma2    predefined   userdefined\n",
       "count  12811.000000  12811.000000  12811.000000  12811.000000  12811.000000  1.281100e+04  1.281100e+04  1.281100e+04  1.281100e+04  1.281100e+04  1.281100e+04  1.281100e+04  1.281100e+04  12811.000000  12811.000000\n",
       "mean       4.487394      4.390602     41.313871     47.182656     65.570760  6.057853e+05  1.680526e+05  4.138435e+04  3.318339e+04  2.431837e+04  3.814433e+04  2.959255e+04  1.441597e+04      0.479978      0.512606\n",
       "std        2.865373      2.913232     23.152953     22.655976    597.921035  6.376236e+05  2.441346e+05  7.243082e+04  5.831410e+04  3.837968e+04  7.906606e+04  7.982637e+04  3.603523e+04      0.499618      0.499861\n",
       "min        0.000000      0.000000      0.000000      0.000000  -2048.000000  4.480000e+02  1.700000e+01  2.000000e+00  2.000000e+00  3.000000e+00  2.000000e+00  1.000000e+00  2.000000e+00      0.000000      0.000000\n",
       "25%        2.000000      2.000000     27.000000     37.000000    -14.000000  9.806400e+04  2.691750e+04  6.838000e+03  6.852000e+03  6.140000e+03  7.358500e+03  4.058000e+03  2.167500e+03      0.000000      0.000000\n",
       "50%        4.000000      4.000000     43.000000     51.000000     35.000000  3.954870e+05  8.133100e+04  1.750000e+04  1.495900e+04  1.281800e+04  1.581000e+04  9.763000e+03  5.116000e+03      0.000000      1.000000\n",
       "75%        7.000000      7.000000     57.000000     63.000000     90.000000  9.166230e+05  2.052760e+05  4.477950e+04  3.455050e+04  2.740600e+04  3.549400e+04  2.488800e+04  1.266950e+04      1.000000      1.000000\n",
       "max        9.000000      9.000000    100.000000    100.000000   2047.000000  3.964663e+06  3.007802e+06  1.369955e+06  1.016913e+06  1.067778e+06  1.645369e+06  1.972506e+06  1.348117e+06      1.000000      1.000000"
      ]
     },
     "execution_count": 10,
     "metadata": {},
     "output_type": "execute_result"
    }
   ],
   "source": [
    "eeg_df.describe()"
   ]
  },
  {
   "cell_type": "code",
   "execution_count": 11,
   "id": "6a1aa90f",
   "metadata": {
    "ExecuteTime": {
     "end_time": "2025-04-27T03:28:25.171291Z",
     "start_time": "2025-04-27T03:28:25.166036Z"
    }
   },
   "outputs": [
    {
     "data": {
      "text/plain": [
       "array([0., 1.])"
      ]
     },
     "execution_count": 11,
     "metadata": {},
     "output_type": "execute_result"
    }
   ],
   "source": [
    "eeg_df['userdefined'].unique()"
   ]
  },
  {
   "cell_type": "code",
   "execution_count": 12,
   "id": "d1ac3d08",
   "metadata": {
    "ExecuteTime": {
     "end_time": "2025-04-27T03:28:25.319531Z",
     "start_time": "2025-04-27T03:28:25.313534Z"
    }
   },
   "outputs": [],
   "source": [
    "# only numeric values\n",
    "df = eeg_df.apply(pd.to_numeric)"
   ]
  },
  {
   "cell_type": "code",
   "execution_count": 13,
   "id": "2da89ed7",
   "metadata": {
    "ExecuteTime": {
     "end_time": "2025-04-27T03:28:25.457530Z",
     "start_time": "2025-04-27T03:28:25.449253Z"
    }
   },
   "outputs": [
    {
     "data": {
      "text/html": [
       "<div>\n",
       "<style scoped>\n",
       "    .dataframe tbody tr th:only-of-type {\n",
       "        vertical-align: middle;\n",
       "    }\n",
       "\n",
       "    .dataframe tbody tr th {\n",
       "        vertical-align: top;\n",
       "    }\n",
       "\n",
       "    .dataframe thead th {\n",
       "        text-align: right;\n",
       "    }\n",
       "</style>\n",
       "<table border=\"1\" class=\"dataframe\">\n",
       "  <thead>\n",
       "    <tr style=\"text-align: right;\">\n",
       "      <th></th>\n",
       "      <th>subject ID</th>\n",
       "      <th>age</th>\n",
       "      <th>ethnicity</th>\n",
       "      <th>gender</th>\n",
       "    </tr>\n",
       "  </thead>\n",
       "  <tbody>\n",
       "    <tr>\n",
       "      <th>0</th>\n",
       "      <td>0</td>\n",
       "      <td>25</td>\n",
       "      <td>Han Chinese</td>\n",
       "      <td>M</td>\n",
       "    </tr>\n",
       "    <tr>\n",
       "      <th>1</th>\n",
       "      <td>1</td>\n",
       "      <td>24</td>\n",
       "      <td>Han Chinese</td>\n",
       "      <td>M</td>\n",
       "    </tr>\n",
       "    <tr>\n",
       "      <th>2</th>\n",
       "      <td>2</td>\n",
       "      <td>31</td>\n",
       "      <td>English</td>\n",
       "      <td>M</td>\n",
       "    </tr>\n",
       "    <tr>\n",
       "      <th>3</th>\n",
       "      <td>3</td>\n",
       "      <td>28</td>\n",
       "      <td>Han Chinese</td>\n",
       "      <td>F</td>\n",
       "    </tr>\n",
       "    <tr>\n",
       "      <th>4</th>\n",
       "      <td>4</td>\n",
       "      <td>24</td>\n",
       "      <td>Bengali</td>\n",
       "      <td>M</td>\n",
       "    </tr>\n",
       "  </tbody>\n",
       "</table>\n",
       "</div>"
      ],
      "text/plain": [
       "   subject ID   age    ethnicity  gender\n",
       "0           0    25  Han Chinese       M\n",
       "1           1    24  Han Chinese       M\n",
       "2           2    31      English       M\n",
       "3           3    28  Han Chinese       F\n",
       "4           4    24      Bengali       M"
      ]
     },
     "execution_count": 13,
     "metadata": {},
     "output_type": "execute_result"
    }
   ],
   "source": [
    "demographic_df = pd.read_csv(demographic_path)\n",
    "demographic_df.head()"
   ]
  },
  {
   "cell_type": "code",
   "execution_count": 14,
   "id": "12333d6a",
   "metadata": {
    "ExecuteTime": {
     "end_time": "2025-04-27T03:28:25.602161Z",
     "start_time": "2025-04-27T03:28:25.596680Z"
    }
   },
   "outputs": [
    {
     "data": {
      "text/plain": [
       "subject ID     int64\n",
       " age           int64\n",
       " ethnicity    object\n",
       " gender       object\n",
       "dtype: object"
      ]
     },
     "execution_count": 14,
     "metadata": {},
     "output_type": "execute_result"
    }
   ],
   "source": [
    "demographic_df.dtypes"
   ]
  },
  {
   "cell_type": "code",
   "execution_count": 15,
   "id": "4c06527a",
   "metadata": {
    "ExecuteTime": {
     "end_time": "2025-04-27T03:28:25.709364Z",
     "start_time": "2025-04-27T03:28:25.699485Z"
    }
   },
   "outputs": [
    {
     "data": {
      "text/html": [
       "<div>\n",
       "<style scoped>\n",
       "    .dataframe tbody tr th:only-of-type {\n",
       "        vertical-align: middle;\n",
       "    }\n",
       "\n",
       "    .dataframe tbody tr th {\n",
       "        vertical-align: top;\n",
       "    }\n",
       "\n",
       "    .dataframe thead th {\n",
       "        text-align: right;\n",
       "    }\n",
       "</style>\n",
       "<table border=\"1\" class=\"dataframe\">\n",
       "  <thead>\n",
       "    <tr style=\"text-align: right;\">\n",
       "      <th></th>\n",
       "      <th>subject ID</th>\n",
       "      <th>age</th>\n",
       "    </tr>\n",
       "  </thead>\n",
       "  <tbody>\n",
       "    <tr>\n",
       "      <th>count</th>\n",
       "      <td>10.00000</td>\n",
       "      <td>10.000000</td>\n",
       "    </tr>\n",
       "    <tr>\n",
       "      <th>mean</th>\n",
       "      <td>4.50000</td>\n",
       "      <td>25.400000</td>\n",
       "    </tr>\n",
       "    <tr>\n",
       "      <th>std</th>\n",
       "      <td>3.02765</td>\n",
       "      <td>2.319004</td>\n",
       "    </tr>\n",
       "    <tr>\n",
       "      <th>min</th>\n",
       "      <td>0.00000</td>\n",
       "      <td>24.000000</td>\n",
       "    </tr>\n",
       "    <tr>\n",
       "      <th>25%</th>\n",
       "      <td>2.25000</td>\n",
       "      <td>24.000000</td>\n",
       "    </tr>\n",
       "    <tr>\n",
       "      <th>50%</th>\n",
       "      <td>4.50000</td>\n",
       "      <td>24.500000</td>\n",
       "    </tr>\n",
       "    <tr>\n",
       "      <th>75%</th>\n",
       "      <td>6.75000</td>\n",
       "      <td>25.000000</td>\n",
       "    </tr>\n",
       "    <tr>\n",
       "      <th>max</th>\n",
       "      <td>9.00000</td>\n",
       "      <td>31.000000</td>\n",
       "    </tr>\n",
       "  </tbody>\n",
       "</table>\n",
       "</div>"
      ],
      "text/plain": [
       "       subject ID        age\n",
       "count    10.00000  10.000000\n",
       "mean      4.50000  25.400000\n",
       "std       3.02765   2.319004\n",
       "min       0.00000  24.000000\n",
       "25%       2.25000  24.000000\n",
       "50%       4.50000  24.500000\n",
       "75%       6.75000  25.000000\n",
       "max       9.00000  31.000000"
      ]
     },
     "execution_count": 15,
     "metadata": {},
     "output_type": "execute_result"
    }
   ],
   "source": [
    "demographic_df.describe()"
   ]
  },
  {
   "cell_type": "code",
   "execution_count": 16,
   "id": "4d500516",
   "metadata": {
    "ExecuteTime": {
     "end_time": "2025-04-27T03:28:25.835449Z",
     "start_time": "2025-04-27T03:28:25.831065Z"
    }
   },
   "outputs": [],
   "source": [
    "# drop ethnicity\n",
    "demographic_df.drop(columns={' ethnicity'}, inplace=True)"
   ]
  },
  {
   "cell_type": "code",
   "execution_count": 17,
   "id": "9c364cb6",
   "metadata": {
    "ExecuteTime": {
     "end_time": "2025-04-27T03:28:25.947529Z",
     "start_time": "2025-04-27T03:28:25.944409Z"
    }
   },
   "outputs": [],
   "source": [
    "# changing the name\n",
    "demographic_df.columns = ['SubjectID', 'Age', 'Gender']\n"
   ]
  },
  {
   "cell_type": "code",
   "execution_count": 18,
   "id": "d5568997",
   "metadata": {
    "ExecuteTime": {
     "end_time": "2025-04-27T03:28:26.128596Z",
     "start_time": "2025-04-27T03:28:26.124067Z"
    }
   },
   "outputs": [],
   "source": [
    "# gender F = 0 | M = 1\n",
    "demographic_df['Gender'] = demographic_df['Gender'].map({'F': 0, 'M': 1})"
   ]
  },
  {
   "cell_type": "code",
   "execution_count": 19,
   "id": "2f1f7157",
   "metadata": {
    "ExecuteTime": {
     "end_time": "2025-04-27T03:28:26.192853Z",
     "start_time": "2025-04-27T03:28:26.187460Z"
    }
   },
   "outputs": [
    {
     "data": {
      "text/plain": [
       "SubjectID    int64\n",
       "Age          int64\n",
       "Gender       int64\n",
       "dtype: object"
      ]
     },
     "execution_count": 19,
     "metadata": {},
     "output_type": "execute_result"
    }
   ],
   "source": [
    "demographic_df.dtypes"
   ]
  },
  {
   "cell_type": "code",
   "execution_count": 20,
   "id": "0449ea90",
   "metadata": {
    "ExecuteTime": {
     "end_time": "2025-04-27T03:28:26.283944Z",
     "start_time": "2025-04-27T03:28:26.263275Z"
    }
   },
   "outputs": [
    {
     "data": {
      "text/html": [
       "<div>\n",
       "<style scoped>\n",
       "    .dataframe tbody tr th:only-of-type {\n",
       "        vertical-align: middle;\n",
       "    }\n",
       "\n",
       "    .dataframe tbody tr th {\n",
       "        vertical-align: top;\n",
       "    }\n",
       "\n",
       "    .dataframe thead th {\n",
       "        text-align: right;\n",
       "    }\n",
       "</style>\n",
       "<table border=\"1\" class=\"dataframe\">\n",
       "  <thead>\n",
       "    <tr style=\"text-align: right;\">\n",
       "      <th></th>\n",
       "      <th>SubjectID</th>\n",
       "      <th>VideoID</th>\n",
       "      <th>Attention</th>\n",
       "      <th>Mediation</th>\n",
       "      <th>Raw</th>\n",
       "      <th>Delta</th>\n",
       "      <th>Theta</th>\n",
       "      <th>Alpha1</th>\n",
       "      <th>Alpha2</th>\n",
       "      <th>Beta1</th>\n",
       "      <th>Beta2</th>\n",
       "      <th>Gamma1</th>\n",
       "      <th>Gamma2</th>\n",
       "      <th>predefined</th>\n",
       "      <th>userdefined</th>\n",
       "      <th>Age</th>\n",
       "      <th>Gender</th>\n",
       "    </tr>\n",
       "  </thead>\n",
       "  <tbody>\n",
       "    <tr>\n",
       "      <th>0</th>\n",
       "      <td>0.0</td>\n",
       "      <td>0.0</td>\n",
       "      <td>56.0</td>\n",
       "      <td>43.0</td>\n",
       "      <td>278.0</td>\n",
       "      <td>301963.0</td>\n",
       "      <td>90612.0</td>\n",
       "      <td>33735.0</td>\n",
       "      <td>23991.0</td>\n",
       "      <td>27946.0</td>\n",
       "      <td>45097.0</td>\n",
       "      <td>33228.0</td>\n",
       "      <td>8293.0</td>\n",
       "      <td>0.0</td>\n",
       "      <td>0.0</td>\n",
       "      <td>25</td>\n",
       "      <td>1</td>\n",
       "    </tr>\n",
       "    <tr>\n",
       "      <th>1</th>\n",
       "      <td>0.0</td>\n",
       "      <td>0.0</td>\n",
       "      <td>40.0</td>\n",
       "      <td>35.0</td>\n",
       "      <td>-50.0</td>\n",
       "      <td>73787.0</td>\n",
       "      <td>28083.0</td>\n",
       "      <td>1439.0</td>\n",
       "      <td>2240.0</td>\n",
       "      <td>2746.0</td>\n",
       "      <td>3687.0</td>\n",
       "      <td>5293.0</td>\n",
       "      <td>2740.0</td>\n",
       "      <td>0.0</td>\n",
       "      <td>0.0</td>\n",
       "      <td>25</td>\n",
       "      <td>1</td>\n",
       "    </tr>\n",
       "    <tr>\n",
       "      <th>2</th>\n",
       "      <td>0.0</td>\n",
       "      <td>0.0</td>\n",
       "      <td>47.0</td>\n",
       "      <td>48.0</td>\n",
       "      <td>101.0</td>\n",
       "      <td>758353.0</td>\n",
       "      <td>383745.0</td>\n",
       "      <td>201999.0</td>\n",
       "      <td>62107.0</td>\n",
       "      <td>36293.0</td>\n",
       "      <td>130536.0</td>\n",
       "      <td>57243.0</td>\n",
       "      <td>25354.0</td>\n",
       "      <td>0.0</td>\n",
       "      <td>0.0</td>\n",
       "      <td>25</td>\n",
       "      <td>1</td>\n",
       "    </tr>\n",
       "    <tr>\n",
       "      <th>3</th>\n",
       "      <td>0.0</td>\n",
       "      <td>0.0</td>\n",
       "      <td>47.0</td>\n",
       "      <td>57.0</td>\n",
       "      <td>-5.0</td>\n",
       "      <td>2012240.0</td>\n",
       "      <td>129350.0</td>\n",
       "      <td>61236.0</td>\n",
       "      <td>17084.0</td>\n",
       "      <td>11488.0</td>\n",
       "      <td>62462.0</td>\n",
       "      <td>49960.0</td>\n",
       "      <td>33932.0</td>\n",
       "      <td>0.0</td>\n",
       "      <td>0.0</td>\n",
       "      <td>25</td>\n",
       "      <td>1</td>\n",
       "    </tr>\n",
       "    <tr>\n",
       "      <th>4</th>\n",
       "      <td>0.0</td>\n",
       "      <td>0.0</td>\n",
       "      <td>44.0</td>\n",
       "      <td>53.0</td>\n",
       "      <td>-8.0</td>\n",
       "      <td>1005145.0</td>\n",
       "      <td>354328.0</td>\n",
       "      <td>37102.0</td>\n",
       "      <td>88881.0</td>\n",
       "      <td>45307.0</td>\n",
       "      <td>99603.0</td>\n",
       "      <td>44790.0</td>\n",
       "      <td>29749.0</td>\n",
       "      <td>0.0</td>\n",
       "      <td>0.0</td>\n",
       "      <td>25</td>\n",
       "      <td>1</td>\n",
       "    </tr>\n",
       "  </tbody>\n",
       "</table>\n",
       "</div>"
      ],
      "text/plain": [
       "   SubjectID  VideoID  Attention  Mediation    Raw      Delta     Theta    Alpha1   Alpha2    Beta1     Beta2   Gamma1   Gamma2  predefined  userdefined  Age  Gender\n",
       "0        0.0      0.0       56.0       43.0  278.0   301963.0   90612.0   33735.0  23991.0  27946.0   45097.0  33228.0   8293.0         0.0          0.0   25       1\n",
       "1        0.0      0.0       40.0       35.0  -50.0    73787.0   28083.0    1439.0   2240.0   2746.0    3687.0   5293.0   2740.0         0.0          0.0   25       1\n",
       "2        0.0      0.0       47.0       48.0  101.0   758353.0  383745.0  201999.0  62107.0  36293.0  130536.0  57243.0  25354.0         0.0          0.0   25       1\n",
       "3        0.0      0.0       47.0       57.0   -5.0  2012240.0  129350.0   61236.0  17084.0  11488.0   62462.0  49960.0  33932.0         0.0          0.0   25       1\n",
       "4        0.0      0.0       44.0       53.0   -8.0  1005145.0  354328.0   37102.0  88881.0  45307.0   99603.0  44790.0  29749.0         0.0          0.0   25       1"
      ]
     },
     "execution_count": 20,
     "metadata": {},
     "output_type": "execute_result"
    }
   ],
   "source": [
    "# merge to dataframe\n",
    "merged_df = pd.merge(eeg_df, demographic_df, on='SubjectID', how='inner')\n",
    "merged_df.head()"
   ]
  },
  {
   "cell_type": "code",
   "execution_count": 21,
   "id": "d531f1b5",
   "metadata": {
    "ExecuteTime": {
     "end_time": "2025-04-27T03:28:26.404629Z",
     "start_time": "2025-04-27T03:28:26.390991Z"
    }
   },
   "outputs": [
    {
     "name": "stdout",
     "output_type": "stream",
     "text": [
      "             Attention  Mediation       Raw     Delta     Theta    Alpha1    Alpha2     Beta1     Beta2    Gamma1    Gamma2  predefined  userdefined\n",
      "Attention     1.000000   0.548606 -0.094933 -0.220403 -0.258356 -0.198662 -0.247011 -0.255361 -0.306624 -0.299903 -0.312734    0.001559    -0.119088\n",
      "Mediation     0.548606   1.000000 -0.106923 -0.111810 -0.179887 -0.043275 -0.153740 -0.240774 -0.391365 -0.344922 -0.373253    0.015751    -0.023502\n",
      "Raw          -0.094933  -0.106923  1.000000  0.048908  0.053443  0.045247  0.063867  0.090863  0.173631  0.186884  0.205772    0.010598    -0.001465\n",
      "Delta        -0.220403  -0.111810  0.048908  1.000000  0.483386  0.426530  0.409898  0.395217  0.260820  0.210062  0.218673    0.012333     0.148588\n",
      "Theta        -0.258356  -0.179887  0.053443  0.483386  1.000000  0.586956  0.553796  0.555541  0.368975  0.300468  0.308575    0.001602     0.147558\n",
      "Alpha1       -0.198662  -0.043275  0.045247  0.426530  0.586956  1.000000  0.565232  0.549113  0.317923  0.267677  0.323593    0.011802     0.121711\n",
      "Alpha2       -0.247011  -0.153740  0.063867  0.409898  0.553796  0.565232  1.000000  0.626824  0.464840  0.374979  0.455567   -0.001838     0.107238\n",
      "Beta1        -0.255361  -0.240774  0.090863  0.395217  0.555541  0.549113  0.626824  1.000000  0.480490  0.422165  0.527484    0.008543     0.111482\n",
      "Beta2        -0.306624  -0.391365  0.173631  0.260820  0.368975  0.317923  0.464840  0.480490  1.000000  0.808930  0.692584   -0.093512     0.019556\n",
      "Gamma1       -0.299903  -0.344922  0.186884  0.210062  0.300468  0.267677  0.374979  0.422165  0.808930  1.000000  0.739836   -0.065764     0.011316\n",
      "Gamma2       -0.312734  -0.373253  0.205772  0.218673  0.308575  0.323593  0.455567  0.527484  0.692584  0.739836  1.000000   -0.028403     0.053533\n",
      "predefined    0.001559   0.015751  0.010598  0.012333  0.001602  0.011802 -0.001838  0.008543 -0.093512 -0.065764 -0.028403    1.000000    -0.022824\n",
      "userdefined  -0.119088  -0.023502 -0.001465  0.148588  0.147558  0.121711  0.107238  0.111482  0.019556  0.011316  0.053533   -0.022824     1.000000\n"
     ]
    }
   ],
   "source": [
    "# calculate corelation\n",
    "correlation_matrix = merged_df[features[2:]].corr()\n",
    "print(correlation_matrix)"
   ]
  },
  {
   "cell_type": "code",
   "execution_count": 22,
   "id": "aa04d6d0",
   "metadata": {
    "ExecuteTime": {
     "end_time": "2025-04-27T03:28:27.058827Z",
     "start_time": "2025-04-27T03:28:26.581449Z"
    }
   },
   "outputs": [
    {
     "data": {
      "image/png": "[encoded data removed]",
      "text/plain": [
       "<Figure size 1000x800 with 2 Axes>"
      ]
     },
     "metadata": {},
     "output_type": "display_data"
    }
   ],
   "source": [
    "# visualize the correlation\n",
    "plt.figure(figsize=(10, 8))\n",
    "sns.heatmap(correlation_matrix, \n",
    "            annot=True,       \n",
    "            fmt=\".2f\",          \n",
    "            cmap='Spectral',   \n",
    "            square=True,        \n",
    "            cbar_kws={\"shrink\": 0.8})  \n",
    "plt.title('Correlation Matrix', fontsize=16)\n",
    "plt.xticks(rotation=90)\n",
    "plt.yticks(rotation=0)\n",
    "plt.show()"
   ]
  },
  {
   "cell_type": "code",
   "execution_count": 24,
   "id": "7b332830",
   "metadata": {
    "ExecuteTime": {
     "end_time": "2025-04-27T03:28:27.086012Z",
     "start_time": "2025-04-27T03:28:27.080837Z"
    }
   },
   "outputs": [
    {
     "name": "stdout",
     "output_type": "stream",
     "text": [
      "Max correlation (excluding self-correlation): 0.8089304500960287\n"
     ]
    }
   ],
   "source": [
    "# Mask the diagonal and find the maximum correlation\n",
    "mask = np.eye(correlation_matrix.shape[0], dtype=bool)\n",
    "corr_values = correlation_matrix.where(~mask)\n",
    "\n",
    "max_corr = corr_values.max().max()\n",
    "print(f\"Max correlation (excluding self-correlation): {max_corr}\")\n"
   ]
  },
  {
   "cell_type": "code",
   "execution_count": 25,
   "id": "c2184166",
   "metadata": {},
   "outputs": [
    {
     "data": {
      "text/html": [
       "<div>\n",
       "<style scoped>\n",
       "    .dataframe tbody tr th:only-of-type {\n",
       "        vertical-align: middle;\n",
       "    }\n",
       "\n",
       "    .dataframe tbody tr th {\n",
       "        vertical-align: top;\n",
       "    }\n",
       "\n",
       "    .dataframe thead th {\n",
       "        text-align: right;\n",
       "    }\n",
       "</style>\n",
       "<table border=\"1\" class=\"dataframe\">\n",
       "  <thead>\n",
       "    <tr style=\"text-align: right;\">\n",
       "      <th></th>\n",
       "      <th>SubjectID</th>\n",
       "      <th>VideoID</th>\n",
       "      <th>Attention</th>\n",
       "      <th>Mediation</th>\n",
       "      <th>Raw</th>\n",
       "      <th>Delta</th>\n",
       "      <th>Theta</th>\n",
       "      <th>Alpha1</th>\n",
       "      <th>Alpha2</th>\n",
       "      <th>Beta1</th>\n",
       "      <th>Beta2</th>\n",
       "      <th>Gamma1</th>\n",
       "      <th>Gamma2</th>\n",
       "      <th>predefined</th>\n",
       "      <th>userdefined</th>\n",
       "      <th>Age</th>\n",
       "      <th>Gender</th>\n",
       "    </tr>\n",
       "  </thead>\n",
       "  <tbody>\n",
       "    <tr>\n",
       "      <th>0</th>\n",
       "      <td>0.0</td>\n",
       "      <td>0.0</td>\n",
       "      <td>56.0</td>\n",
       "      <td>43.0</td>\n",
       "      <td>278.0</td>\n",
       "      <td>301963.0</td>\n",
       "      <td>90612.0</td>\n",
       "      <td>33735.0</td>\n",
       "      <td>23991.0</td>\n",
       "      <td>27946.0</td>\n",
       "      <td>45097.0</td>\n",
       "      <td>33228.0</td>\n",
       "      <td>8293.0</td>\n",
       "      <td>0.0</td>\n",
       "      <td>0.0</td>\n",
       "      <td>25</td>\n",
       "      <td>1</td>\n",
       "    </tr>\n",
       "    <tr>\n",
       "      <th>1</th>\n",
       "      <td>0.0</td>\n",
       "      <td>0.0</td>\n",
       "      <td>40.0</td>\n",
       "      <td>35.0</td>\n",
       "      <td>-50.0</td>\n",
       "      <td>73787.0</td>\n",
       "      <td>28083.0</td>\n",
       "      <td>1439.0</td>\n",
       "      <td>2240.0</td>\n",
       "      <td>2746.0</td>\n",
       "      <td>3687.0</td>\n",
       "      <td>5293.0</td>\n",
       "      <td>2740.0</td>\n",
       "      <td>0.0</td>\n",
       "      <td>0.0</td>\n",
       "      <td>25</td>\n",
       "      <td>1</td>\n",
       "    </tr>\n",
       "    <tr>\n",
       "      <th>2</th>\n",
       "      <td>0.0</td>\n",
       "      <td>0.0</td>\n",
       "      <td>47.0</td>\n",
       "      <td>48.0</td>\n",
       "      <td>101.0</td>\n",
       "      <td>758353.0</td>\n",
       "      <td>383745.0</td>\n",
       "      <td>201999.0</td>\n",
       "      <td>62107.0</td>\n",
       "      <td>36293.0</td>\n",
       "      <td>130536.0</td>\n",
       "      <td>57243.0</td>\n",
       "      <td>25354.0</td>\n",
       "      <td>0.0</td>\n",
       "      <td>0.0</td>\n",
       "      <td>25</td>\n",
       "      <td>1</td>\n",
       "    </tr>\n",
       "    <tr>\n",
       "      <th>3</th>\n",
       "      <td>0.0</td>\n",
       "      <td>0.0</td>\n",
       "      <td>47.0</td>\n",
       "      <td>57.0</td>\n",
       "      <td>-5.0</td>\n",
       "      <td>2012240.0</td>\n",
       "      <td>129350.0</td>\n",
       "      <td>61236.0</td>\n",
       "      <td>17084.0</td>\n",
       "      <td>11488.0</td>\n",
       "      <td>62462.0</td>\n",
       "      <td>49960.0</td>\n",
       "      <td>33932.0</td>\n",
       "      <td>0.0</td>\n",
       "      <td>0.0</td>\n",
       "      <td>25</td>\n",
       "      <td>1</td>\n",
       "    </tr>\n",
       "    <tr>\n",
       "      <th>4</th>\n",
       "      <td>0.0</td>\n",
       "      <td>0.0</td>\n",
       "      <td>44.0</td>\n",
       "      <td>53.0</td>\n",
       "      <td>-8.0</td>\n",
       "      <td>1005145.0</td>\n",
       "      <td>354328.0</td>\n",
       "      <td>37102.0</td>\n",
       "      <td>88881.0</td>\n",
       "      <td>45307.0</td>\n",
       "      <td>99603.0</td>\n",
       "      <td>44790.0</td>\n",
       "      <td>29749.0</td>\n",
       "      <td>0.0</td>\n",
       "      <td>0.0</td>\n",
       "      <td>25</td>\n",
       "      <td>1</td>\n",
       "    </tr>\n",
       "  </tbody>\n",
       "</table>\n",
       "</div>"
      ],
      "text/plain": [
       "   SubjectID  VideoID  Attention  Mediation    Raw      Delta     Theta    Alpha1   Alpha2    Beta1     Beta2   Gamma1   Gamma2  predefined  userdefined  Age  Gender\n",
       "0        0.0      0.0       56.0       43.0  278.0   301963.0   90612.0   33735.0  23991.0  27946.0   45097.0  33228.0   8293.0         0.0          0.0   25       1\n",
       "1        0.0      0.0       40.0       35.0  -50.0    73787.0   28083.0    1439.0   2240.0   2746.0    3687.0   5293.0   2740.0         0.0          0.0   25       1\n",
       "2        0.0      0.0       47.0       48.0  101.0   758353.0  383745.0  201999.0  62107.0  36293.0  130536.0  57243.0  25354.0         0.0          0.0   25       1\n",
       "3        0.0      0.0       47.0       57.0   -5.0  2012240.0  129350.0   61236.0  17084.0  11488.0   62462.0  49960.0  33932.0         0.0          0.0   25       1\n",
       "4        0.0      0.0       44.0       53.0   -8.0  1005145.0  354328.0   37102.0  88881.0  45307.0   99603.0  44790.0  29749.0         0.0          0.0   25       1"
      ]
     },
     "execution_count": 25,
     "metadata": {},
     "output_type": "execute_result"
    }
   ],
   "source": [
    "merged_df.head()"
   ]
  },
  {
   "cell_type": "code",
   "execution_count": 28,
   "id": "2c1fefeb",
   "metadata": {
    "ExecuteTime": {
     "end_time": "2025-04-27T03:28:27.121394Z",
     "start_time": "2025-04-27T03:28:27.118527Z"
    }
   },
   "outputs": [],
   "source": [
    "selected_features = [\n",
    "    'Attention', 'Mediation', \n",
    "    'Delta', 'Theta', 'Alpha1', \n",
    "    'Alpha2', 'Beta1', 'Beta2',\n",
    "    'Gamma1', 'Gamma2', 'Age',\n",
    "    'predefined'\n",
    "]"
   ]
  },
  {
   "cell_type": "code",
   "execution_count": 29,
   "id": "6a20bc0b",
   "metadata": {
    "ExecuteTime": {
     "end_time": "2025-04-27T03:28:27.213600Z",
     "start_time": "2025-04-27T03:28:27.208710Z"
    }
   },
   "outputs": [],
   "source": [
    "# data preparation for lstm\n",
    "X = merged_df[selected_features].values\n",
    "y = merged_df['userdefined'].values"
   ]
  },
  {
   "cell_type": "code",
   "execution_count": 30,
   "id": "c1992781",
   "metadata": {},
   "outputs": [
    {
     "data": {
      "text/html": [
       "<div>\n",
       "<style scoped>\n",
       "    .dataframe tbody tr th:only-of-type {\n",
       "        vertical-align: middle;\n",
       "    }\n",
       "\n",
       "    .dataframe tbody tr th {\n",
       "        vertical-align: top;\n",
       "    }\n",
       "\n",
       "    .dataframe thead th {\n",
       "        text-align: right;\n",
       "    }\n",
       "</style>\n",
       "<table border=\"1\" class=\"dataframe\">\n",
       "  <thead>\n",
       "    <tr style=\"text-align: right;\">\n",
       "      <th></th>\n",
       "      <th>SubjectID</th>\n",
       "      <th>VideoID</th>\n",
       "      <th>Attention</th>\n",
       "      <th>Mediation</th>\n",
       "      <th>Raw</th>\n",
       "      <th>Delta</th>\n",
       "      <th>Theta</th>\n",
       "      <th>Alpha1</th>\n",
       "      <th>Alpha2</th>\n",
       "      <th>Beta1</th>\n",
       "      <th>Beta2</th>\n",
       "      <th>Gamma1</th>\n",
       "      <th>Gamma2</th>\n",
       "      <th>predefined</th>\n",
       "      <th>userdefined</th>\n",
       "      <th>Age</th>\n",
       "      <th>Gender</th>\n",
       "      <th>Timestamp_sec</th>\n",
       "    </tr>\n",
       "  </thead>\n",
       "  <tbody>\n",
       "    <tr>\n",
       "      <th>0</th>\n",
       "      <td>0.0</td>\n",
       "      <td>0.0</td>\n",
       "      <td>56.0</td>\n",
       "      <td>43.0</td>\n",
       "      <td>278.0</td>\n",
       "      <td>301963.0</td>\n",
       "      <td>90612.0</td>\n",
       "      <td>33735.0</td>\n",
       "      <td>23991.0</td>\n",
       "      <td>27946.0</td>\n",
       "      <td>45097.0</td>\n",
       "      <td>33228.0</td>\n",
       "      <td>8293.0</td>\n",
       "      <td>0.0</td>\n",
       "      <td>0.0</td>\n",
       "      <td>25</td>\n",
       "      <td>1</td>\n",
       "      <td>0.0</td>\n",
       "    </tr>\n",
       "    <tr>\n",
       "      <th>1</th>\n",
       "      <td>0.0</td>\n",
       "      <td>0.0</td>\n",
       "      <td>40.0</td>\n",
       "      <td>35.0</td>\n",
       "      <td>-50.0</td>\n",
       "      <td>73787.0</td>\n",
       "      <td>28083.0</td>\n",
       "      <td>1439.0</td>\n",
       "      <td>2240.0</td>\n",
       "      <td>2746.0</td>\n",
       "      <td>3687.0</td>\n",
       "      <td>5293.0</td>\n",
       "      <td>2740.0</td>\n",
       "      <td>0.0</td>\n",
       "      <td>0.0</td>\n",
       "      <td>25</td>\n",
       "      <td>1</td>\n",
       "      <td>0.5</td>\n",
       "    </tr>\n",
       "    <tr>\n",
       "      <th>2</th>\n",
       "      <td>0.0</td>\n",
       "      <td>0.0</td>\n",
       "      <td>47.0</td>\n",
       "      <td>48.0</td>\n",
       "      <td>101.0</td>\n",
       "      <td>758353.0</td>\n",
       "      <td>383745.0</td>\n",
       "      <td>201999.0</td>\n",
       "      <td>62107.0</td>\n",
       "      <td>36293.0</td>\n",
       "      <td>130536.0</td>\n",
       "      <td>57243.0</td>\n",
       "      <td>25354.0</td>\n",
       "      <td>0.0</td>\n",
       "      <td>0.0</td>\n",
       "      <td>25</td>\n",
       "      <td>1</td>\n",
       "      <td>1.0</td>\n",
       "    </tr>\n",
       "    <tr>\n",
       "      <th>3</th>\n",
       "      <td>0.0</td>\n",
       "      <td>0.0</td>\n",
       "      <td>47.0</td>\n",
       "      <td>57.0</td>\n",
       "      <td>-5.0</td>\n",
       "      <td>2012240.0</td>\n",
       "      <td>129350.0</td>\n",
       "      <td>61236.0</td>\n",
       "      <td>17084.0</td>\n",
       "      <td>11488.0</td>\n",
       "      <td>62462.0</td>\n",
       "      <td>49960.0</td>\n",
       "      <td>33932.0</td>\n",
       "      <td>0.0</td>\n",
       "      <td>0.0</td>\n",
       "      <td>25</td>\n",
       "      <td>1</td>\n",
       "      <td>1.5</td>\n",
       "    </tr>\n",
       "    <tr>\n",
       "      <th>4</th>\n",
       "      <td>0.0</td>\n",
       "      <td>0.0</td>\n",
       "      <td>44.0</td>\n",
       "      <td>53.0</td>\n",
       "      <td>-8.0</td>\n",
       "      <td>1005145.0</td>\n",
       "      <td>354328.0</td>\n",
       "      <td>37102.0</td>\n",
       "      <td>88881.0</td>\n",
       "      <td>45307.0</td>\n",
       "      <td>99603.0</td>\n",
       "      <td>44790.0</td>\n",
       "      <td>29749.0</td>\n",
       "      <td>0.0</td>\n",
       "      <td>0.0</td>\n",
       "      <td>25</td>\n",
       "      <td>1</td>\n",
       "      <td>2.0</td>\n",
       "    </tr>\n",
       "  </tbody>\n",
       "</table>\n",
       "</div>"
      ],
      "text/plain": [
       "   SubjectID  VideoID  Attention  Mediation    Raw      Delta     Theta    Alpha1   Alpha2    Beta1     Beta2   Gamma1   Gamma2  predefined  userdefined  Age  Gender  Timestamp_sec\n",
       "0        0.0      0.0       56.0       43.0  278.0   301963.0   90612.0   33735.0  23991.0  27946.0   45097.0  33228.0   8293.0         0.0          0.0   25       1            0.0\n",
       "1        0.0      0.0       40.0       35.0  -50.0    73787.0   28083.0    1439.0   2240.0   2746.0    3687.0   5293.0   2740.0         0.0          0.0   25       1            0.5\n",
       "2        0.0      0.0       47.0       48.0  101.0   758353.0  383745.0  201999.0  62107.0  36293.0  130536.0  57243.0  25354.0         0.0          0.0   25       1            1.0\n",
       "3        0.0      0.0       47.0       57.0   -5.0  2012240.0  129350.0   61236.0  17084.0  11488.0   62462.0  49960.0  33932.0         0.0          0.0   25       1            1.5\n",
       "4        0.0      0.0       44.0       53.0   -8.0  1005145.0  354328.0   37102.0  88881.0  45307.0   99603.0  44790.0  29749.0         0.0          0.0   25       1            2.0"
      ]
     },
     "execution_count": 30,
     "metadata": {},
     "output_type": "execute_result"
    }
   ],
   "source": [
    "# calculate timestamp\n",
    "info_df = merged_df[['SubjectID', 'VideoID']].copy()\n",
    "\n",
    "timestamps = []\n",
    "for (subj, vid), group in info_df.groupby(['SubjectID', 'VideoID']):\n",
    "    n_samples = len(group)\n",
    "    group_times = [i * 0.5 for i in range(n_samples)]\n",
    "    timestamps.extend(group_times)\n",
    "\n",
    "merged_df['Timestamp_sec'] = timestamps\n",
    "info_df['Timestamp_sec'] = timestamps\n",
    "merged_df.head()\n"
   ]
  },
  {
   "cell_type": "code",
   "execution_count": 31,
   "id": "baacc02f",
   "metadata": {},
   "outputs": [],
   "source": [
    "merged_df.to_csv('timestamp.csv', index=False)"
   ]
  },
  {
   "cell_type": "code",
   "execution_count": 32,
   "id": "35fc40d0",
   "metadata": {},
   "outputs": [
    {
     "name": "stdout",
     "output_type": "stream",
     "text": [
      "(11911, 10, 15) (11911,) (11911, 3)\n"
     ]
    }
   ],
   "source": [
    "W = 10  \n",
    "\n",
    "X_seq, y_seq, info_seq = [], [], []\n",
    "for (subj, vid), grp in merged_df.groupby(['SubjectID','VideoID']):\n",
    "    data       = grp[features].values           # shape=(120, F)\n",
    "    labels     = grp['userdefined'].values       # shape=(120,)\n",
    "    timestamps = grp['Timestamp_sec'].values     # shape=(120,)\n",
    "\n",
    "    for i in range(len(grp) - W + 1):\n",
    "        X_seq.append(data[i:i+W])\n",
    "        y_seq.append(int(labels[i:i+W].mean() > 0.5))\n",
    "        # pick the middle‐of‐window timestamp\n",
    "        info_seq.append({\n",
    "            'SubjectID':    subj,\n",
    "            'VideoID':      vid,\n",
    "            'Timestamp_sec': timestamps[i + W//2]\n",
    "        })\n",
    "\n",
    "X_seq       = np.stack(X_seq)                   # → (n_windows, W, F)\n",
    "y_seq       = np.array(y_seq)                   # → (n_windows,)\n",
    "info_seq_df = pd.DataFrame(info_seq)            # → (n_windows, 3)\n",
    "\n",
    "print(X_seq.shape, y_seq.shape, info_seq_df.shape)"
   ]
  },
  {
   "cell_type": "code",
   "execution_count": 33,
   "id": "7a566958",
   "metadata": {
    "ExecuteTime": {
     "end_time": "2025-04-27T03:28:27.247829Z",
     "start_time": "2025-04-27T03:28:27.242937Z"
    }
   },
   "outputs": [
    {
     "name": "stdout",
     "output_type": "stream",
     "text": [
      "Train shapes: (9528, 10, 15) (9528,) (9528, 3)\n",
      "Test  shapes: (2383, 10, 15) (2383,) (2383, 3)\n"
     ]
    }
   ],
   "source": [
    "# split the train and test set\n",
    "# X_train, X_test, y_train, y_test = train_test_split(X, y, test_size=0.2, random_state=42)\n",
    "\n",
    "X_train, X_test, y_train, y_test, info_train, info_test = train_test_split(\n",
    "    X_seq, y_seq, info_seq_df,\n",
    "    test_size=0.2,\n",
    "    random_state=42,\n",
    "    stratify=y_seq\n",
    ")\n",
    "\n",
    "print(\"Train shapes:\", X_train.shape, y_train.shape, info_train.shape)\n",
    "print(\"Test  shapes:\", X_test.shape,  y_test.shape,  info_test.shape)\n"
   ]
  },
  {
   "cell_type": "code",
   "execution_count": 263,
   "id": "0631aead",
   "metadata": {},
   "outputs": [
    {
     "name": "stdout",
     "output_type": "stream",
     "text": [
      "Class weights: {0: 1.026281775096941, 1: 0.9750306999590668}\n"
     ]
    }
   ],
   "source": [
    "n_tr, _, n_feat = X_train.shape\n",
    "scaler = StandardScaler()\n",
    "X_tr_flat = X_train.reshape(-1, n_feat)\n",
    "X_tr_scaled = scaler.fit_transform(X_tr_flat).reshape(n_tr, W, n_feat)\n",
    "\n",
    "n_te = X_test.shape[0]\n",
    "X_te_flat = X_test.reshape(-1, n_feat)\n",
    "X_te_scaled = scaler.transform(X_te_flat).reshape(n_te, W, n_feat)\n",
    "\n",
    "from sklearn.utils import class_weight\n",
    "\n",
    "cw = class_weight.compute_class_weight('balanced', classes=[0,1], y=y_train)\n",
    "cw = {0: cw[0], 1: cw[1]}\n",
    "print(\"Class weights:\", cw)"
   ]
  },
  {
   "cell_type": "code",
   "execution_count": 264,
   "id": "9a5ee860",
   "metadata": {},
   "outputs": [],
   "source": [
    "# default lstm\n",
    "def build_lstm_model(input_shape, units=128, dropout_rate=0.5, learning_rate=0.001):\n",
    "    model = Sequential([\n",
    "        Bidirectional(LSTM(units, return_sequences=True), input_shape=input_shape),\n",
    "        Dropout(dropout_rate),\n",
    "        Bidirectional(LSTM(units, return_sequences=True)),\n",
    "        Dropout(dropout_rate),\n",
    "        LSTM(units//2),\n",
    "        Dense(1, activation='sigmoid')\n",
    "    ])\n",
    "    model.compile(\n",
    "        loss='binary_crossentropy',\n",
    "        optimizer=Adam(learning_rate=learning_rate),\n",
    "        metrics=['accuracy']\n",
    "    )\n",
    "    return model"
   ]
  },
  {
   "cell_type": "code",
   "execution_count": 265,
   "id": "8922e2ed",
   "metadata": {},
   "outputs": [],
   "source": [
    "def run_kfold_experiment(X, y, model_type, folder, k_splits=10, \n",
    "                         epochs=15, batch_size=256, \n",
    "                         callbacks=None):\n",
    "    kf = KFold(n_splits=k_splits, shuffle=True, random_state=42)\n",
    "    results = []\n",
    "    if X.ndim == 2:\n",
    "        X = X.reshape((X.shape[0], 1, X.shape[1]))\n",
    "    input_shape = (X.shape[1], X.shape[2])\n",
    "    fold_no = 0\n",
    "    os.makedirs(folder, exist_ok=True)\n",
    "    for fold, (train_idx, val_idx) in enumerate(kf.split(X, y), start=1):\n",
    "        print(f\"Training fold {fold}/{k_splits}...\")\n",
    "        X_train, X_val = X[train_idx], X[val_idx]\n",
    "        y_train, y_val = y[train_idx], y[val_idx]\n",
    "        \n",
    "        model = model_type(input_shape)\n",
    "        history = model.fit(\n",
    "            X_train, y_train,\n",
    "            validation_data=(X_val, y_val),\n",
    "            epochs=epochs,\n",
    "            batch_size=batch_size,\n",
    "            verbose=0,\n",
    "            callbacks=callbacks or []\n",
    "        )   \n",
    "        model.save(f'{folder}/lstm_fold_{fold_no}.h5')\n",
    "\n",
    "        loss, acc = model.evaluate(X_val, y_val, verbose=0)\n",
    "        print(f\"Fold {fold} - Loss: {loss:.4f}, Accuracy: {acc:.4f}\")\n",
    "        results.append((loss, acc))\n",
    "\n",
    "        fold_no += 1\n",
    "        \n",
    "    return results"
   ]
  },
  {
   "cell_type": "code",
   "execution_count": 37,
   "id": "e235dadf",
   "metadata": {},
   "outputs": [],
   "source": [
    "default_folder = 'Default'\n",
    "tuned_folder = 'Tuned'"
   ]
  },
  {
   "cell_type": "code",
   "execution_count": null,
   "id": "4efa742e",
   "metadata": {},
   "outputs": [
    {
     "name": "stdout",
     "output_type": "stream",
     "text": [
      "Training fold 1/10...\n"
     ]
    },
    {
     "name": "stderr",
     "output_type": "stream",
     "text": [
      "C:\\Users\\tasni\\miniconda3\\lib\\site-packages\\keras\\src\\engine\\training.py:3103: UserWarning: You are saving your model as an HDF5 file via `model.save()`. This file format is considered legacy. We recommend using instead the native Keras format, e.g. `model.save('my_model.keras')`.\n",
      "  saving_api.save_model(\n"
     ]
    },
    {
     "name": "stdout",
     "output_type": "stream",
     "text": [
      "Fold 1 - Loss: 0.5643, Accuracy: 0.6779\n",
      "Training fold 2/10...\n",
      "Fold 2 - Loss: 0.5599, Accuracy: 0.6894\n",
      "Training fold 3/10...\n",
      "Fold 3 - Loss: 0.5631, Accuracy: 0.6852\n",
      "Training fold 4/10...\n",
      "Fold 4 - Loss: 0.5590, Accuracy: 0.7041\n",
      "Training fold 5/10...\n",
      "Fold 5 - Loss: 0.5624, Accuracy: 0.6894\n",
      "Training fold 6/10...\n",
      "Fold 6 - Loss: 0.5822, Accuracy: 0.6842\n",
      "Training fold 7/10...\n",
      "Fold 7 - Loss: 0.5701, Accuracy: 0.6884\n",
      "Training fold 8/10...\n",
      "Fold 8 - Loss: 0.5962, Accuracy: 0.6569\n",
      "Training fold 9/10...\n",
      "Fold 9 - Loss: 0.5417, Accuracy: 0.6943\n",
      "Training fold 10/10...\n",
      "Fold 10 - Loss: 0.5800, Accuracy: 0.6838\n"
     ]
    }
   ],
   "source": [
    "# training the model with default model\n",
    "default_lstm = lambda input_shape: build_lstm_model(input_shape)\n",
    "\n",
    "default_results = run_kfold_experiment(\n",
    "    X_train, y_train, \n",
    "    model_type=default_lstm, \n",
    "    folder=default_folder,\n",
    "    epochs=50,\n",
    "    batch_size=128\n",
    ")"
   ]
  },
  {
   "cell_type": "code",
   "execution_count": null,
   "id": "f10e0073",
   "metadata": {},
   "outputs": [
    {
     "name": "stdout",
     "output_type": "stream",
     "text": [
      "Training fold 1/10...\n",
      "Fold 1 - Loss: 0.2058, Accuracy: 0.9003\n",
      "Training fold 2/10...\n",
      "Fold 2 - Loss: 0.2823, Accuracy: 0.8594\n",
      "Training fold 3/10...\n",
      "Fold 3 - Loss: 0.2832, Accuracy: 0.8499\n",
      "Training fold 4/10...\n",
      "Fold 4 - Loss: 0.3120, Accuracy: 0.8300\n",
      "Training fold 5/10...\n",
      "Fold 5 - Loss: 0.2143, Accuracy: 0.9035\n",
      "Training fold 6/10...\n",
      "Fold 6 - Loss: 0.2444, Accuracy: 0.8940\n",
      "Training fold 7/10...\n",
      "Fold 7 - Loss: 0.2870, Accuracy: 0.8741\n",
      "Training fold 8/10...\n",
      "Fold 8 - Loss: 0.4097, Accuracy: 0.7786\n",
      "Training fold 9/10...\n",
      "Fold 9 - Loss: 0.2632, Accuracy: 0.8634\n",
      "Training fold 10/10...\n",
      "Fold 10 - Loss: 0.2511, Accuracy: 0.8761\n"
     ]
    }
   ],
   "source": [
    "tuned_lstm = lambda input_shape: build_lstm_model(\n",
    "    input_shape,\n",
    "    units=256,\n",
    "    dropout_rate=0.3,\n",
    "    learning_rate=5e-4\n",
    ")\n",
    "early_stop = EarlyStopping(monitor='val_loss', patience=10, restore_best_weights=True)\n",
    "\n",
    "\n",
    "tuned_results = run_kfold_experiment(\n",
    "    X_train, y_train,\n",
    "    model_type=tuned_lstm,\n",
    "    folder=tuned_folder,\n",
    "    epochs=100,\n",
    "    batch_size=128,\n",
    "    callbacks=[early_stop]\n",
    ")\n"
   ]
  },
  {
   "cell_type": "code",
   "execution_count": 34,
   "id": "a6e8ad04",
   "metadata": {
    "ExecuteTime": {
     "end_time": "2025-04-27T03:32:53.305489Z",
     "start_time": "2025-04-27T03:32:53.300912Z"
    }
   },
   "outputs": [
    {
     "name": "stdout",
     "output_type": "stream",
     "text": [
      "\n",
      "Default model Results:\n"
     ]
    },
    {
     "ename": "NameError",
     "evalue": "name 'default_results' is not defined",
     "output_type": "error",
     "traceback": [
      "\u001b[1;31m---------------------------------------------------------------------------\u001b[0m",
      "\u001b[1;31mNameError\u001b[0m                                 Traceback (most recent call last)",
      "Cell \u001b[1;32mIn[34], line 3\u001b[0m\n\u001b[0;32m      1\u001b[0m \u001b[38;5;66;03m# training summary\u001b[39;00m\n\u001b[0;32m      2\u001b[0m \u001b[38;5;28mprint\u001b[39m(\u001b[38;5;124m\"\u001b[39m\u001b[38;5;130;01m\\n\u001b[39;00m\u001b[38;5;124mDefault model Results:\u001b[39m\u001b[38;5;124m\"\u001b[39m)\n\u001b[1;32m----> 3\u001b[0m \u001b[38;5;28mprint\u001b[39m(\u001b[38;5;124mf\u001b[39m\u001b[38;5;124m\"\u001b[39m\u001b[38;5;124mMean Loss: \u001b[39m\u001b[38;5;132;01m{\u001b[39;00mnp\u001b[38;5;241m.\u001b[39mmean(\u001b[43mdefault_results\u001b[49m)\u001b[38;5;132;01m:\u001b[39;00m\u001b[38;5;124m.4f\u001b[39m\u001b[38;5;132;01m}\u001b[39;00m\u001b[38;5;124m\"\u001b[39m)\n\u001b[0;32m      4\u001b[0m \u001b[38;5;28mprint\u001b[39m(\u001b[38;5;124mf\u001b[39m\u001b[38;5;124m\"\u001b[39m\u001b[38;5;124mStd Dev: \u001b[39m\u001b[38;5;132;01m{\u001b[39;00mnp\u001b[38;5;241m.\u001b[39mstd(default_results)\u001b[38;5;132;01m:\u001b[39;00m\u001b[38;5;124m.4f\u001b[39m\u001b[38;5;132;01m}\u001b[39;00m\u001b[38;5;124m\"\u001b[39m)\n\u001b[0;32m      6\u001b[0m \u001b[38;5;28mprint\u001b[39m(\u001b[38;5;124m\"\u001b[39m\u001b[38;5;130;01m\\n\u001b[39;00m\u001b[38;5;124mTuned model Results:\u001b[39m\u001b[38;5;124m\"\u001b[39m)\n",
      "\u001b[1;31mNameError\u001b[0m: name 'default_results' is not defined"
     ]
    }
   ],
   "source": [
    "# training summary\n",
    "print(\"\\nDefault model Results:\")\n",
    "print(f\"Mean Loss: {np.mean(default_results):.4f}\")\n",
    "print(f\"Std Dev: {np.std(default_results):.4f}\")\n",
    "\n",
    "print(\"\\nTuned model Results:\")\n",
    "print(f\"Mean Loss: {np.mean(tuned_results):.4f}\")\n",
    "print(f\"Std Dev: {np.std(tuned_results):.4f}\")\n"
   ]
  },
  {
   "cell_type": "code",
   "execution_count": 269,
   "id": "08e8d4ad",
   "metadata": {
    "ExecuteTime": {
     "end_time": "2025-04-27T03:32:53.345043Z",
     "start_time": "2025-04-27T03:32:53.339667Z"
    }
   },
   "outputs": [
    {
     "name": "stdout",
     "output_type": "stream",
     "text": [
      "\n",
      "Best fold based on Loss: Fold 8 with Loss 0.5417\n",
      "Best fold based on Accuracy: Fold 3 with Accuracy 0.7041\n"
     ]
    }
   ],
   "source": [
    "# find the best fold default\n",
    "losses_default = [r[0] for r in default_results] \n",
    "accuracies_default = [r[1] for r in default_results] \n",
    "\n",
    "# best model based on the loss\n",
    "best_fold_idx_default = np.argmin(losses_default)\n",
    "best_fold_no_default = best_fold_idx_default\n",
    "print(f\"\\nBest fold based on Loss: Fold {best_fold_no_default} with Loss {losses_default[best_fold_idx_default]:.4f}\")\n",
    "\n",
    "# best model based on accuracy\n",
    "best_fold_idx_acc_default = np.argmax(accuracies_default)\n",
    "best_fold_no_acc_default = best_fold_idx_acc_default \n",
    "\n",
    "print(f\"Best fold based on Accuracy: Fold {best_fold_no_acc_default} with Accuracy {accuracies_default[best_fold_idx_acc_default]:.4f}\")"
   ]
  },
  {
   "cell_type": "code",
   "execution_count": 270,
   "id": "8075d431",
   "metadata": {},
   "outputs": [
    {
     "name": "stdout",
     "output_type": "stream",
     "text": [
      "Tuned results\n",
      "\n",
      "Best fold based on Loss: Fold 0 with Loss 0.2058\n",
      "Best fold based on Accuracy: Fold 4 with Accuracy 0.9035\n"
     ]
    }
   ],
   "source": [
    "# find the best fold tuned\n",
    "print(f\"Tuned results\")\n",
    "losses_tuned = [r[0] for r in tuned_results] \n",
    "accuracies_tuned = [r[1] for r in tuned_results] \n",
    "\n",
    "# best model based on the loss\n",
    "best_fold_idx_tuned = np.argmin(losses_tuned)\n",
    "best_fold_no_tuned = best_fold_idx_tuned \n",
    "print(f\"\\nBest fold based on Loss: Fold {best_fold_no_tuned} with Loss {losses_tuned[best_fold_idx_tuned]:.4f}\")\n",
    "\n",
    "# best model based on accuracy\n",
    "best_fold_idx_acc_tuned = np.argmax(accuracies_tuned)\n",
    "best_fold_no_acc_tuned = best_fold_idx_acc_tuned \n",
    "\n",
    "print(f\"Best fold based on Accuracy: Fold {best_fold_no_acc_tuned} with Accuracy {accuracies_tuned[best_fold_idx_acc_tuned]:.4f}\")"
   ]
  },
  {
   "cell_type": "code",
   "execution_count": 41,
   "id": "a03eeaf5",
   "metadata": {
    "ExecuteTime": {
     "end_time": "2025-04-27T03:32:53.844342Z",
     "start_time": "2025-04-27T03:32:53.419709Z"
    }
   },
   "outputs": [
    {
     "name": "stdout",
     "output_type": "stream",
     "text": [
      "WARNING:tensorflow:From C:\\Users\\tasni\\miniconda3\\lib\\site-packages\\keras\\src\\backend.py:1398: The name tf.executing_eagerly_outside_functions is deprecated. Please use tf.compat.v1.executing_eagerly_outside_functions instead.\n",
      "\n"
     ]
    }
   ],
   "source": [
    "best_fold_no_default = 8\n",
    "best_fold_no_tuned = 0\n",
    "best_model_default = load_model(f'{default_folder}/lstm_fold_{best_fold_no_default}.h5')\n",
    "best_model_tuned = load_model(f'{tuned_folder}/lstm_fold_{best_fold_no_tuned}.h5')"
   ]
  },
  {
   "cell_type": "code",
   "execution_count": 42,
   "id": "ad47ca61",
   "metadata": {
    "ExecuteTime": {
     "end_time": "2025-04-27T03:32:54.570406Z",
     "start_time": "2025-04-27T03:32:53.844342Z"
    }
   },
   "outputs": [
    {
     "name": "stdout",
     "output_type": "stream",
     "text": [
      "WARNING:tensorflow:From C:\\Users\\tasni\\miniconda3\\lib\\site-packages\\keras\\src\\utils\\tf_utils.py:492: The name tf.ragged.RaggedTensorValue is deprecated. Please use tf.compat.v1.ragged.RaggedTensorValue instead.\n",
      "\n",
      "75/75 [==============================] - 2s 6ms/step - loss: 0.5717 - accuracy: 0.6886\n",
      "Test loss: 0.5717, Test accuracy: 0.6886\n",
      "75/75 [==============================] - 2s 6ms/step\n",
      "Predicted probabilities for default model: [0.67825115 0.3572937  0.6388272  0.6592049  0.80956376 0.3569278\n",
      " 0.8383872  0.4837555  0.5386664  0.5654478 ]\n",
      "[0 1]\n"
     ]
    }
   ],
   "source": [
    "# test the model default\n",
    "# X_test_for_lstm = X_test.reshape((X_test.shape[0], 1, X_test.shape[1]))\n",
    "\n",
    "test_loss_default, test_acc_default = best_model_default.evaluate(X_test,\n",
    "                                                   y_test, verbose=1)\n",
    "print(f\"Test loss: {test_loss_default:.4f}, Test accuracy: {test_acc_default:.4f}\")\n",
    "\n",
    "y_pred_prob_default = best_model_default.predict(X_test).flatten()\n",
    "print(\"Predicted probabilities for default model:\", y_pred_prob_default[:10])\n",
    "\n",
    "y_pred_class_default = (y_pred_prob_default > 0.40).astype(int)\n",
    "print(np.unique(y_pred_class_default))"
   ]
  },
  {
   "cell_type": "code",
   "execution_count": 43,
   "id": "aaa424d0",
   "metadata": {},
   "outputs": [
    {
     "name": "stdout",
     "output_type": "stream",
     "text": [
      "75/75 [==============================] - 2s 12ms/step - loss: 0.2425 - accuracy: 0.8943\n",
      "Test loss: 0.2425, Test accuracy: 0.8943\n",
      "75/75 [==============================] - 2s 12ms/step\n",
      "Predicted probabilities for tuned model: [1.9012859e-02 5.4921334e-06 9.5866555e-01 6.0465503e-03 9.9957621e-01\n",
      " 5.6044715e-03 9.8544121e-01 9.1276991e-01 1.3602816e-05 9.2735600e-01]\n",
      "[0 1]\n"
     ]
    }
   ],
   "source": [
    "# tuned model\n",
    "test_loss_tuned, test_acc_tuned = best_model_tuned.evaluate(X_test,\n",
    "                                                   y_test, verbose=1)\n",
    "print(f\"Test loss: {test_loss_tuned:.4f}, Test accuracy: {test_acc_tuned:.4f}\")\n",
    "\n",
    "y_pred_prob_tuned = best_model_tuned.predict(X_test).flatten()\n",
    "print(\"Predicted probabilities for tuned model:\", y_pred_prob_tuned[:10])\n",
    "\n",
    "y_pred_class_tuned = (y_pred_prob_tuned > 0.40).astype(int)\n",
    "print(np.unique(y_pred_class_tuned))"
   ]
  },
  {
   "cell_type": "code",
   "execution_count": 44,
   "id": "d2a2e3bc",
   "metadata": {
    "ExecuteTime": {
     "end_time": "2025-04-27T03:32:55.665058Z",
     "start_time": "2025-04-27T03:32:55.346242Z"
    }
   },
   "outputs": [],
   "source": [
    "if X_test.ndim == 3:\n",
    "    X_test_2d = X_test[:, 0, :]  \n",
    "else:\n",
    "    X_test_2d = X_test \n",
    "result_df = pd.DataFrame(X_test_2d, columns=features)\n",
    "result_df['True_Label'] = y_test\n",
    "result_df['Predicted_Prob_default'] = y_pred_prob_default\n",
    "result_df['Predicted_Label_default'] = y_pred_class_default\n",
    "result_df['Predicted_Prob_tuned'] = y_pred_prob_tuned\n",
    "result_df['Predicted_Label_tuned'] = y_pred_class_tuned\n",
    "result_df = pd.concat([\n",
    "                        info_test.reset_index(drop=True), \n",
    "                        result_df.reset_index(drop=True)\n",
    "                        ], axis=1)\n",
    "\n",
    "result_df.to_csv('test_results.csv', index=False)"
   ]
  },
  {
   "cell_type": "code",
   "execution_count": 45,
   "id": "0c420d25",
   "metadata": {},
   "outputs": [
    {
     "name": "stdout",
     "output_type": "stream",
     "text": [
      "Test results for the default model\n",
      "\n",
      "Accuracy: 0.6739\n",
      "F1 Score: 0.7467\n",
      "Precision: 0.6206\n",
      "Recall: 0.9370\n"
     ]
    }
   ],
   "source": [
    "# Evaluate the model\n",
    "accuracy_d = accuracy_score(y_test, y_pred_class_default)\n",
    "f1_d = f1_score(y_test, y_pred_class_default)\n",
    "precision_d = precision_score(y_test, y_pred_class_default)\n",
    "recall_d = recall_score(y_test, y_pred_class_default)\n",
    "\n",
    "print(f\"Test results for the default model\\n\")\n",
    "print(f\"Accuracy: {accuracy_d:.4f}\")\n",
    "print(f\"F1 Score: {f1_d:.4f}\")\n",
    "print(f\"Precision: {precision_d:.4f}\")\n",
    "print(f\"Recall: {recall_d:.4f}\")\n"
   ]
  },
  {
   "cell_type": "code",
   "execution_count": 46,
   "id": "f1baf42e",
   "metadata": {},
   "outputs": [
    {
     "name": "stdout",
     "output_type": "stream",
     "text": [
      "Test results for the Tuned model\n",
      "\n",
      "Accuracy: 0.8842\n",
      "F1 Score: 0.8930\n",
      "Precision: 0.8483\n",
      "Recall: 0.9427\n"
     ]
    }
   ],
   "source": [
    "# Evaluate the model\n",
    "accuracy = accuracy_score(y_test, y_pred_class_tuned)\n",
    "f1 = f1_score(y_test, y_pred_class_tuned)\n",
    "precision = precision_score(y_test, y_pred_class_tuned)\n",
    "recall = recall_score(y_test, y_pred_class_tuned)\n",
    "\n",
    "print(f\"Test results for the Tuned model\\n\")\n",
    "print(f\"Accuracy: {accuracy:.4f}\")\n",
    "print(f\"F1 Score: {f1:.4f}\")\n",
    "print(f\"Precision: {precision:.4f}\")\n",
    "print(f\"Recall: {recall:.4f}\")\n"
   ]
  },
  {
   "cell_type": "code",
   "execution_count": 47,
   "id": "d46e7bf9",
   "metadata": {},
   "outputs": [
    {
     "data": {
      "image/png": "[encoded data removed]",
      "text/plain": [
       "<Figure size 640x480 with 2 Axes>"
      ]
     },
     "metadata": {},
     "output_type": "display_data"
    }
   ],
   "source": [
    "# confusion metric\n",
    "cm = confusion_matrix(y_test, y_pred_class_tuned)\n",
    "\n",
    "disp = ConfusionMatrixDisplay(confusion_matrix=cm, display_labels=[0, 1])\n",
    "disp.plot(cmap='Blues')\n",
    "plt.title('Confusion Matrix')\n",
    "plt.show()\n"
   ]
  },
  {
   "cell_type": "code",
   "execution_count": 48,
   "id": "b0c525f7",
   "metadata": {},
   "outputs": [
    {
     "data": {
      "image/png": "[encoded data removed]",
      "text/plain": [
       "<Figure size 800x600 with 1 Axes>"
      ]
     },
     "metadata": {},
     "output_type": "display_data"
    }
   ],
   "source": [
    "# Calculate ROC\n",
    "fpr, tpr, thresholds = roc_curve(y_test, y_pred_prob_tuned)\n",
    "roc_auc = auc(fpr, tpr)\n",
    "\n",
    "plt.figure(figsize=(8,6))\n",
    "plt.plot(fpr, tpr, label=f'ROC Curve (area = {roc_auc:.2f})')\n",
    "plt.plot([0, 1], [0, 1], linestyle='--', color='grey') \n",
    "plt.xlabel('False Positive Rate')\n",
    "plt.ylabel('True Positive Rate')\n",
    "plt.title('Receiver Operating Characteristic (ROC)')\n",
    "plt.legend(loc=\"lower right\")\n",
    "plt.grid()\n",
    "plt.show()"
   ]
  },
  {
   "cell_type": "code",
   "execution_count": 49,
   "id": "456bfff6",
   "metadata": {},
   "outputs": [
    {
     "data": {
      "image/png": "[encoded data removed]",
      "text/plain": [
       "<Figure size 800x600 with 1 Axes>"
      ]
     },
     "metadata": {},
     "output_type": "display_data"
    }
   ],
   "source": [
    "# precision recall curve\n",
    "precision, recall, thresholds = precision_recall_curve(y_test, y_pred_prob_tuned)\n",
    "\n",
    "plt.figure(figsize=(8,6))\n",
    "plt.plot(recall, precision)\n",
    "plt.xlabel('Recall')\n",
    "plt.ylabel('Precision')\n",
    "plt.title('Precision-Recall Curve')\n",
    "plt.grid()\n",
    "plt.show()\n"
   ]
  },
  {
   "cell_type": "code",
   "execution_count": 50,
   "id": "b99885ba",
   "metadata": {},
   "outputs": [
    {
     "data": {
      "image/png": "[encoded data removed]",
      "text/plain": [
       "<Figure size 1200x600 with 1 Axes>"
      ]
     },
     "metadata": {},
     "output_type": "display_data"
    }
   ],
   "source": [
    "# confusion: predicted vs true\n",
    "result_df_visual = pd.read_csv('test_results.csv')\n",
    "\n",
    "# Function to plot confusion timeline\n",
    "def plot_confusion_timeline(result_df, subject_id, video_id):\n",
    "    subset = result_df[(result_df['SubjectID'] == subject_id)\n",
    "                        & (result_df['VideoID'] == video_id)]\n",
    "    \n",
    "    if subset.empty:\n",
    "        print(f\"No data found for SubjectID={subject_id} \\\n",
    "               and VideoID={video_id}\")\n",
    "        return\n",
    "\n",
    "    subset = subset.sort_values('Timestamp_sec')\n",
    "\n",
    "    plt.figure(figsize=(12, 6))\n",
    "    sns.lineplot(x='Timestamp_sec', y='Predicted_Prob_tuned', \n",
    "                 data=subset, marker='o', \n",
    "                 label='Predicted Confusion Probability')\n",
    "\n",
    "    # Mark True Labels\n",
    "    colors = ['green' if row['True_Label'] == row['Predicted_Label_tuned'] \n",
    "              else 'red' for idx, row in subset.iterrows()]\n",
    "    plt.scatter(subset['Timestamp_sec'], subset['True_Label'], \n",
    "                c=colors, s=80, edgecolors='black', label='True Confusion')\n",
    "\n",
    "    plt.title(f\"Confusion Timeline\\nSubjectID: {subject_id} | \\\n",
    "              VideoID: {video_id}\")\n",
    "    plt.xlabel('Time (seconds)')\n",
    "    plt.ylabel('Confusion Probability')\n",
    "    plt.ylim([-0.2, 1.2])\n",
    "    plt.legend()\n",
    "    plt.grid(True)\n",
    "    plt.tight_layout()\n",
    "    plt.show()\n",
    "\n",
    "plot_confusion_timeline(result_df_visual, subject_id=0.0, video_id=7.0)"
   ]
  }
 ],
 "metadata": {
  "kernelspec": {
   "display_name": "Python 3 (ipykernel)",
   "language": "python",
   "name": "python3"
  },
  "language_info": {
   "codemirror_mode": {
    "name": "ipython",
    "version": 3
   },
   "file_extension": ".py",
   "mimetype": "text/x-python",
   "name": "python",
   "nbconvert_exporter": "python",
   "pygments_lexer": "ipython3",
   "version": "3.10.13"
  }
 },
 "nbformat": 4,
 "nbformat_minor": 5
}
